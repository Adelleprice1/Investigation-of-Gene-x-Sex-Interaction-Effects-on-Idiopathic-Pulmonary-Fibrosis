{
 "cells": [
  {
   "cell_type": "code",
   "execution_count": 4,
   "id": "82a141f5",
   "metadata": {},
   "outputs": [
    {
     "data": {
      "text/plain": [
       "     Min.   1st Qu.    Median      Mean   3rd Qu.      Max. \n",
       "0.0001041 0.1101417 0.2723688 0.4148248 0.5603247 2.5428292 "
      ]
     },
     "metadata": {},
     "output_type": "display_data"
    },
    {
     "name": "stderr",
     "output_type": "stream",
     "text": [
      "\n",
      "Attaching package: 'dplyr'\n",
      "\n",
      "\n",
      "The following objects are masked from 'package:stats':\n",
      "\n",
      "    filter, lag\n",
      "\n",
      "\n",
      "The following objects are masked from 'package:base':\n",
      "\n",
      "    intersect, setdiff, setequal, union\n",
      "\n",
      "\n"
     ]
    },
    {
     "data": {
      "image/png": "[encoded data removed]",
      "text/plain": [
       "Plot with title \"Histogram of SNPstats$MAF\""
      ]
     },
     "metadata": {
      "image/png": {
       "height": 420,
       "width": 420
      }
     },
     "output_type": "display_data"
    },
    {
     "data": {
      "image/png": "[encoded data removed]",
      "text/plain": [
       "plot without title"
      ]
     },
     "metadata": {
      "image/png": {
       "height": 420,
       "width": 420
      }
     },
     "output_type": "display_data"
    }
   ],
   "source": [
    "#Read in phenotype data\n",
    "phen <- read.csv(\"C:/Users/adell/Desktop/adelle_price/adelle_price/phenotype.csv\", stringsAsFactors=T)\n",
    "#Make case/control data binary\n",
    "phen$case.control <- ifelse(phen$phenotype == \"case\" , 1, 0)\n",
    "#Read in genotype data as numeric (automatically codes for additive genotype assumption)\n",
    "suppressPackageStartupMessages(library(snpStats))\n",
    "bed.fn <- \"C:/Users/adell/Desktop/adelle_price/adelle_price/common_11p15.bed\"\n",
    "fam.fn <- \"C:/Users/adell/Desktop/adelle_price/adelle_price/common_11p15.fam\"\n",
    "bim.fn <- \"C:/Users/adell/Desktop/adelle_price/adelle_price/common_11p15.bim\"\n",
    "gens <- read.plink(bed.fn, bim.fn, fam.fn)\n",
    "geno <- as(gens$genotypes, \"numeric\")\n",
    "#plot MAF of SNP data\n",
    "Sampstats <- row.summary(gens$genotypes)\n",
    "SNPstats <- col.summary(gens$genotypes)\n",
    "hist(SNPstats$MAF, xlab = \"MAF of SNPs\")\n",
    "#Make data frame for case/control analysis\n",
    "full <- cbind.data.frame(\"ID\" = phen$id, \"Sex\" = phen$SEX, \"case.control\" = phen$case.control, geno)\n",
    "\n",
    "#Perform case/control analysis for each SNP\n",
    "genes_length <- dim(geno)[2]\n",
    "all_names <- colnames(full[,4:2555])\n",
    "case_control = data.frame(matrix(, nrow=0, ncol=6))\n",
    "for (i in 1:genes_length){\n",
    "          Object <- glm(formula = case.control ~ full[[as.character(all_names[i])]] * Sex, data = full, family='binomial')\n",
    "          names(Object$coefficients) = gsub(\"full[[as.character(all_names[i])]]\", paste(all_names[i], \"_\"), names(Object$coefficients), fixed = TRUE)\n",
    "          names(Object$coefficients) = gsub(\"(Intercept)\", paste(all_names[i], \"_(Intercept)\"), names(Object$coefficients), fixed = TRUE)\n",
    "          names(Object$coefficients) = gsub(\"SexMale\", paste(all_names[i], \"_SexMale\"), names(Object$coefficients), fixed = TRUE)\n",
    "          k = summary(Object)$coefficients\n",
    "          f = names(Object$coefficients)\n",
    "          z = cbind(k, \"names\" = rownames(k))\n",
    "          f <- as.data.frame(f)\n",
    "          data_all <- as.data.frame(merge(z, f, by.x = \"names\", by.y = \"f\", all = TRUE))\n",
    "          case_control= rbind.data.frame(case_control, data_all)\n",
    "        \n",
    "    }\n",
    "\n",
    "\n",
    "#Prepare case/control analysis results for Manhattan plot of significance per each interaction coefficient estimate p-value\n",
    "Significant = case_control\n",
    "Sig_Int <- Significant[grep(\"Intercept\", Significant$names), ]\n",
    "Sig_coef <- subset(Significant, !(rownames(Significant) %in% rownames(Sig_Int)))\n",
    "Sig_coef <- na.omit(Sig_coef)\n",
    "Sig_Marg <- Sig_coef[grep(\":rs\", Sig_coef$names), ]\n",
    "Sig_Marg[,5] <- as.numeric(Sig_Marg[,5])\n",
    "Sig_Marg$log_pval = -(log10(Sig_Marg[,5]))\n",
    "\n",
    "suppressPackageStartupMessages(library(dplyr))\n",
    "Sig_Marg <- Sig_Marg %>%                          \n",
    "  mutate(ID = row_number())\n",
    "Sig_Marg$names <- gsub(\"(:).*\", \"\\\\1\", Sig_Marg$names)\n",
    "Sig_Marg$names <- gsub(\":\", \"\", Sig_Marg$names)\n",
    "Sig_Marg$rsid <- Sig_Marg$names\n",
    "Sig_Marg$rsid <- gsub(\"(_).*\", \"\\\\1\", Sig_Marg$rsid)\n",
    "Sig_Marg$rsid <- gsub(\"_\", \"\", Sig_Marg$rsid)\n",
    "Sig_Marg$rsid <- gsub(\"rs\", \"\", Sig_Marg$rsid)\n",
    "Sig_Marg$rsid <- as.numeric(Sig_Marg$rsid)\n",
    "Sig_Marg_o <- Sig_Marg[order(Sig_Marg$rsid),]\n",
    "\n",
    "\n",
    "#Manhattan Plot of -log_10(pvals) of all SNP x Sex interaction terms from Case/Control analysis\n",
    "plot(Sig_Marg_o$rsid, Sig_Marg_o$log_pval, xaxt = \"n\", xlab = \"rsID\", ylab = \"-log_10(p_value)\", ylim = c(0,11))\n",
    "abline(h=(-(log10(.05))), col = \"red\")\n",
    "abline(h=(-(log10(.05/genes_length))), col = \"blue\")\n"
   ]
  },
  {
   "cell_type": "code",
   "execution_count": 11,
   "id": "9f411237",
   "metadata": {},
   "outputs": [
    {
     "data": {
      "text/html": [
       "<table class=\"dataframe\">\n",
       "<caption>A data.frame: 1 × 8</caption>\n",
       "<thead>\n",
       "\t<tr><th></th><th scope=col>names</th><th scope=col>Estimate</th><th scope=col>Std. Error</th><th scope=col>z value</th><th scope=col>Pr(&gt;|z|)</th><th scope=col>log_pval</th><th scope=col>ID</th><th scope=col>rsid</th></tr>\n",
       "\t<tr><th></th><th scope=col>&lt;chr&gt;</th><th scope=col>&lt;chr&gt;</th><th scope=col>&lt;chr&gt;</th><th scope=col>&lt;chr&gt;</th><th scope=col>&lt;dbl&gt;</th><th scope=col>&lt;dbl&gt;</th><th scope=col>&lt;int&gt;</th><th scope=col>&lt;dbl&gt;</th></tr>\n",
       "</thead>\n",
       "<tbody>\n",
       "\t<tr><th scope=row>4695</th><td>rs7396026 _</td><td>0.47772580262881</td><td>0.160212250731451</td><td>2.98183066805283</td><td>0.002865304</td><td>2.542829</td><td>1092</td><td>7396026</td></tr>\n",
       "</tbody>\n",
       "</table>\n"
      ],
      "text/latex": [
       "A data.frame: 1 × 8\n",
       "\\begin{tabular}{r|llllllll}\n",
       "  & names & Estimate & Std. Error & z value & Pr(>\\textbar{}z\\textbar{}) & log\\_pval & ID & rsid\\\\\n",
       "  & <chr> & <chr> & <chr> & <chr> & <dbl> & <dbl> & <int> & <dbl>\\\\\n",
       "\\hline\n",
       "\t4695 & rs7396026 \\_ & 0.47772580262881 & 0.160212250731451 & 2.98183066805283 & 0.002865304 & 2.542829 & 1092 & 7396026\\\\\n",
       "\\end{tabular}\n"
      ],
      "text/markdown": [
       "\n",
       "A data.frame: 1 × 8\n",
       "\n",
       "| <!--/--> | names &lt;chr&gt; | Estimate &lt;chr&gt; | Std. Error &lt;chr&gt; | z value &lt;chr&gt; | Pr(&gt;|z|) &lt;dbl&gt; | log_pval &lt;dbl&gt; | ID &lt;int&gt; | rsid &lt;dbl&gt; |\n",
       "|---|---|---|---|---|---|---|---|---|\n",
       "| 4695 | rs7396026 _ | 0.47772580262881 | 0.160212250731451 | 2.98183066805283 | 0.002865304 | 2.542829 | 1092 | 7396026 |\n",
       "\n"
      ],
      "text/plain": [
       "     names       Estimate         Std. Error        z value         \n",
       "4695 rs7396026 _ 0.47772580262881 0.160212250731451 2.98183066805283\n",
       "     Pr(>|z|)    log_pval ID   rsid   \n",
       "4695 0.002865304 2.542829 1092 7396026"
      ]
     },
     "metadata": {},
     "output_type": "display_data"
    }
   ],
   "source": [
    "#Get SNPxSex interaction with highest significance from Case/Control analysis\n",
    "Sig_Marg_p <- Sig_Marg[order(Sig_Marg[,5]),]\n",
    "Sig_Marg_p[1,]"
   ]
  },
  {
   "cell_type": "code",
   "execution_count": 13,
   "id": "e4258526",
   "metadata": {},
   "outputs": [
    {
     "data": {
      "image/png": "[encoded data removed]",
      "text/plain": [
       "plot without title"
      ]
     },
     "metadata": {
      "image/png": {
       "height": 420,
       "width": 420
      }
     },
     "output_type": "display_data"
    }
   ],
   "source": [
    "#Perform case only analysis for each SNP\n",
    "genes_length <- dim(geno)[2]\n",
    "full_case = full[full$case.control == 1,]\n",
    "all_names <- colnames(full_case[,4:2555])\n",
    "case_only = data.frame(matrix(, nrow=0, ncol=6))\n",
    "for (i in 1:genes_length){\n",
    "          Object <- glm(Sex ~ full_case[[as.character(all_names[i])]], data=full_case, family=binomial)\n",
    "          names(Object$coefficients) = gsub(\"full_case[[as.character(all_names[i])]]\", paste(all_names[i], \"_\"), names(Object$coefficients), fixed = TRUE)\n",
    "          names(Object$coefficients) = gsub(\"(Intercept)\", paste(all_names[i], \"_(Intercept)\"), names(Object$coefficients), fixed = TRUE)\n",
    "          k = summary(Object)$coefficients\n",
    "          f = names(Object$coefficients)\n",
    "          z = cbind(k, \"names\" = rownames(k))\n",
    "          f <- as.data.frame(f)\n",
    "          data_all <- as.data.frame(merge(z, f, by.x = \"names\", by.y = \"f\", all = TRUE))\n",
    "          case_only= rbind.data.frame(case_only, data_all)\n",
    "    \n",
    "        }\n",
    "\n",
    "#Prepare case only analysis results for Manhattan plot of significance per each interaction coefficient estimate p-value\n",
    "Significant = case_only\n",
    "Sig_Int <- Significant[grep(\"Intercept\", Significant$names), ]\n",
    "Sig_coef <- subset(Significant, !(rownames(Significant) %in% rownames(Sig_Int)))\n",
    "Sig_Marg_c <- na.omit(Sig_coef)\n",
    "Sig_Marg_c[,5] <- as.numeric(Sig_Marg_c[,5])\n",
    "Sig_Marg_c$log_pval = -(log10(Sig_Marg_c[,5]))\n",
    "Sig_Marg_c$rsid <- Sig_Marg_c$names\n",
    "Sig_Marg_c$rsid <- gsub(\"(_).*\", \"\\\\1\", Sig_Marg_c$rsid)\n",
    "Sig_Marg_c$rsid <- gsub(\"_\", \"\", Sig_Marg_c$rsid)\n",
    "Sig_Marg_c$rsid <- gsub(\"rs\", \"\", Sig_Marg_c$rsid)\n",
    "Sig_Marg_c$rsid <- gsub(\"chr11:\", \"\", Sig_Marg_c$rsid)\n",
    "Sig_Marg_c$rsid <- as.numeric(Sig_Marg_c$rsid)\n",
    "Sig_Marg_o <- Sig_Marg_c[order(Sig_Marg_c$rsid),]\n",
    "\n",
    "#Manhattan Plot of -log_10(pvals) of all SNP x Sex interaction terms from Case only analysis\n",
    "plot(Sig_Marg_o$rsid, Sig_Marg_o$log_pval, xaxt = \"n\", xlab = \"rsID\", ylab = \"-log_10(p_value)\", ylim = c(0,11))\n",
    "abline(h=(-(log10(.05))), col = \"red\")\n",
    "abline(h=(-(log10(.05/genes_length))), col = \"blue\")"
   ]
  },
  {
   "cell_type": "code",
   "execution_count": 15,
   "id": "6092c6d5",
   "metadata": {},
   "outputs": [
    {
     "data": {
      "text/html": [
       "<table class=\"dataframe\">\n",
       "<caption>A data.frame: 2 × 7</caption>\n",
       "<thead>\n",
       "\t<tr><th></th><th scope=col>names</th><th scope=col>Estimate</th><th scope=col>Std. Error</th><th scope=col>z value</th><th scope=col>Pr(&gt;|z|)</th><th scope=col>log_pval</th><th scope=col>rsid</th></tr>\n",
       "\t<tr><th></th><th scope=col>&lt;chr&gt;</th><th scope=col>&lt;chr&gt;</th><th scope=col>&lt;chr&gt;</th><th scope=col>&lt;chr&gt;</th><th scope=col>&lt;dbl&gt;</th><th scope=col>&lt;dbl&gt;</th><th scope=col>&lt;dbl&gt;</th></tr>\n",
       "</thead>\n",
       "<tbody>\n",
       "\t<tr><th scope=row>3971</th><td>rs35678986 _</td><td>0.335763385776304</td><td>0.112104514303207</td><td>2.99509246227293</td><td>0.002743617</td><td>2.561677</td><td>35678986</td></tr>\n",
       "\t<tr><th scope=row>3053</th><td>rs34830395 _</td><td>0.322688147786073</td><td>0.111548877188729</td><td>2.89279601837784</td><td>0.003818292</td><td>2.418131</td><td>34830395</td></tr>\n",
       "</tbody>\n",
       "</table>\n"
      ],
      "text/latex": [
       "A data.frame: 2 × 7\n",
       "\\begin{tabular}{r|lllllll}\n",
       "  & names & Estimate & Std. Error & z value & Pr(>\\textbar{}z\\textbar{}) & log\\_pval & rsid\\\\\n",
       "  & <chr> & <chr> & <chr> & <chr> & <dbl> & <dbl> & <dbl>\\\\\n",
       "\\hline\n",
       "\t3971 & rs35678986 \\_ & 0.335763385776304 & 0.112104514303207 & 2.99509246227293 & 0.002743617 & 2.561677 & 35678986\\\\\n",
       "\t3053 & rs34830395 \\_ & 0.322688147786073 & 0.111548877188729 & 2.89279601837784 & 0.003818292 & 2.418131 & 34830395\\\\\n",
       "\\end{tabular}\n"
      ],
      "text/markdown": [
       "\n",
       "A data.frame: 2 × 7\n",
       "\n",
       "| <!--/--> | names &lt;chr&gt; | Estimate &lt;chr&gt; | Std. Error &lt;chr&gt; | z value &lt;chr&gt; | Pr(&gt;|z|) &lt;dbl&gt; | log_pval &lt;dbl&gt; | rsid &lt;dbl&gt; |\n",
       "|---|---|---|---|---|---|---|---|\n",
       "| 3971 | rs35678986 _ | 0.335763385776304 | 0.112104514303207 | 2.99509246227293 | 0.002743617 | 2.561677 | 35678986 |\n",
       "| 3053 | rs34830395 _ | 0.322688147786073 | 0.111548877188729 | 2.89279601837784 | 0.003818292 | 2.418131 | 34830395 |\n",
       "\n"
      ],
      "text/plain": [
       "     names        Estimate          Std. Error        z value         \n",
       "3971 rs35678986 _ 0.335763385776304 0.112104514303207 2.99509246227293\n",
       "3053 rs34830395 _ 0.322688147786073 0.111548877188729 2.89279601837784\n",
       "     Pr(>|z|)    log_pval rsid    \n",
       "3971 0.002743617 2.561677 35678986\n",
       "3053 0.003818292 2.418131 34830395"
      ]
     },
     "metadata": {},
     "output_type": "display_data"
    }
   ],
   "source": [
    "#Get two SNPxSex interactions with highest significance from Case only analysis\n",
    "Sig_Marg_p <- Sig_Marg_c[order(Sig_Marg_c[,5]),]\n",
    "Sig_Marg_p[1:2,]"
   ]
  },
  {
   "cell_type": "code",
   "execution_count": 9,
   "id": "ed76ef0d",
   "metadata": {},
   "outputs": [
    {
     "data": {
      "image/png": "[encoded data removed]",
      "text/plain": [
       "plot without title"
      ]
     },
     "metadata": {
      "image/png": {
       "height": 420,
       "width": 420
      }
     },
     "output_type": "display_data"
    }
   ],
   "source": [
    "##Perform control only analysis for each SNP\n",
    "genes_length <- dim(geno)[2]\n",
    "full_control = full[full$case.control == 0,]\n",
    "all_names <- colnames(full_control[,4:2555])\n",
    "control_only = data.frame(matrix(, nrow=0, ncol=6))\n",
    "for (i in 1:genes_length){\n",
    "          Object <- glm(Sex ~ full_control[[as.character(all_names[i])]], data=full_control, family=binomial)\n",
    "          names(Object$coefficients) = gsub(\"full_control[[as.character(all_names[i])]]\", paste(all_names[i], \"_\"), names(Object$coefficients), fixed = TRUE)\n",
    "          k = summary(Object)$coefficients\n",
    "          f = names(Object$coefficients)\n",
    "          z = cbind(k, \"names\" = rownames(k))\n",
    "          f <- as.data.frame(f)\n",
    "          data_all <- as.data.frame(merge(z, f, by.x = \"names\", by.y = \"f\", all = TRUE))\n",
    "          control_only= rbind.data.frame(control_only, data_all)\n",
    "    \n",
    "        }\n",
    "\n",
    "#Prepare control only analysis results for Manhattan plot of significance per each interaction coefficient estimate p-value\n",
    "Significant = control_only\n",
    "Sig_Int <- Significant[grep(\"rs\", Significant$names), ]\n",
    "Sig_Marg_con <- Sig_Int[order(Sig_Int[,5]),]\n",
    "Sig_Marg_con[,5] <- as.numeric(Sig_Marg_con[,5])\n",
    "Sig_Marg_con$log_pval = -(log10(Sig_Marg_con[,5]))\n",
    "Sig_Marg_con$rsid <- Sig_Marg_con$names\n",
    "Sig_Marg_con$rsid <- gsub(\"(_).*\", \"\\\\1\", Sig_Marg_con$rsid)\n",
    "Sig_Marg_con$rsid <- gsub(\"_\", \"\", Sig_Marg_con$rsid)\n",
    "Sig_Marg_con$rsid <- gsub(\"rs\", \"\", Sig_Marg_con$rsid)\n",
    "Sig_Marg_con$rsid <- gsub(\"chr11:\", \"\", Sig_Marg_con$rsid)\n",
    "\n",
    "Sig_Marg_con$rsid <- as.numeric(Sig_Marg_con$rsid)\n",
    "Sig_Marg_o <- Sig_Marg_con[order(Sig_Marg_con$rsid),]\n",
    "plot(Sig_Marg_o$rsid, Sig_Marg_o$log_pval, xaxt = \"n\", xlab = \"rsID\", ylab = \"-log_10(p_value)\", ylim = c(0,11))\n",
    "abline(h=(-(log10(.05))), col = \"red\")\n",
    "abline(h=(-(log10(.05/genes_length))), col = \"blue\")\n"
   ]
  },
  {
   "cell_type": "code",
   "execution_count": 16,
   "id": "ea601a23",
   "metadata": {},
   "outputs": [
    {
     "data": {
      "text/plain": [
       "\n",
       "Call:\n",
       "glm(formula = case.control ~ snp * sex, family = \"binomial\", \n",
       "    data = dat)\n",
       "\n",
       "Deviance Residuals: \n",
       "    Min       1Q   Median       3Q      Max  \n",
       "-1.3404  -0.8646  -0.8121   1.0227   1.5937  \n",
       "\n",
       "Coefficients:\n",
       "            Estimate Std. Error z value Pr(>|z|)   \n",
       "(Intercept)  -0.6429     0.2397  -2.682  0.00732 **\n",
       "snp          -0.1486     0.1241  -1.197  0.23120   \n",
       "sexMale       0.3602     0.3091   1.165  0.24395   \n",
       "snp:sexMale   0.4777     0.1602   2.982  0.00287 **\n",
       "---\n",
       "Signif. codes:  0 '***' 0.001 '**' 0.01 '*' 0.05 '.' 0.1 ' ' 1\n",
       "\n",
       "(Dispersion parameter for binomial family taken to be 1)\n",
       "\n",
       "    Null deviance: 11088  on 8058  degrees of freedom\n",
       "Residual deviance: 10326  on 8055  degrees of freedom\n",
       "AIC: 10334\n",
       "\n",
       "Number of Fisher Scoring iterations: 4\n"
      ]
     },
     "metadata": {},
     "output_type": "display_data"
    },
    {
     "name": "stderr",
     "output_type": "stream",
     "text": [
      "Waiting for profiling to be done...\n",
      "\n"
     ]
    },
    {
     "data": {
      "text/html": [
       "<table class=\"dataframe\">\n",
       "<caption>A matrix: 4 × 2 of type dbl</caption>\n",
       "<thead>\n",
       "\t<tr><th></th><th scope=col>2.5 %</th><th scope=col>97.5 %</th></tr>\n",
       "</thead>\n",
       "<tbody>\n",
       "\t<tr><th scope=row>(Intercept)</th><td>-1.1204596</td><td>-0.17943549</td></tr>\n",
       "\t<tr><th scope=row>snp</th><td>-0.3889956</td><td> 0.09827259</td></tr>\n",
       "\t<tr><th scope=row>sexMale</th><td>-0.2418716</td><td> 0.97067873</td></tr>\n",
       "\t<tr><th scope=row>snp:sexMale</th><td> 0.1615563</td><td> 0.78998387</td></tr>\n",
       "</tbody>\n",
       "</table>\n"
      ],
      "text/latex": [
       "A matrix: 4 × 2 of type dbl\n",
       "\\begin{tabular}{r|ll}\n",
       "  & 2.5 \\% & 97.5 \\%\\\\\n",
       "\\hline\n",
       "\t(Intercept) & -1.1204596 & -0.17943549\\\\\n",
       "\tsnp & -0.3889956 &  0.09827259\\\\\n",
       "\tsexMale & -0.2418716 &  0.97067873\\\\\n",
       "\tsnp:sexMale &  0.1615563 &  0.78998387\\\\\n",
       "\\end{tabular}\n"
      ],
      "text/markdown": [
       "\n",
       "A matrix: 4 × 2 of type dbl\n",
       "\n",
       "| <!--/--> | 2.5 % | 97.5 % |\n",
       "|---|---|---|\n",
       "| (Intercept) | -1.1204596 | -0.17943549 |\n",
       "| snp | -0.3889956 |  0.09827259 |\n",
       "| sexMale | -0.2418716 |  0.97067873 |\n",
       "| snp:sexMale |  0.1615563 |  0.78998387 |\n",
       "\n"
      ],
      "text/plain": [
       "            2.5 %      97.5 %     \n",
       "(Intercept) -1.1204596 -0.17943549\n",
       "snp         -0.3889956  0.09827259\n",
       "sexMale     -0.2418716  0.97067873\n",
       "snp:sexMale  0.1615563  0.78998387"
      ]
     },
     "metadata": {},
     "output_type": "display_data"
    },
    {
     "data": {
      "text/plain": [
       "\n",
       "Call:\n",
       "glm(formula = sex ~ snp, family = \"binomial\", data = dat)\n",
       "\n",
       "Deviance Residuals: \n",
       "    Min       1Q   Median       3Q      Max  \n",
       "-1.5991  -1.4537   0.8079   0.8079   1.0502  \n",
       "\n",
       "Coefficients:\n",
       "            Estimate Std. Error z value Pr(>|z|)   \n",
       "(Intercept)   0.3067     0.2135   1.437  0.15073   \n",
       "snp           0.3227     0.1115   2.893  0.00382 **\n",
       "---\n",
       "Signif. codes:  0 '***' 0.001 '**' 0.01 '*' 0.05 '.' 0.1 ' ' 1\n",
       "\n",
       "(Dispersion parameter for binomial family taken to be 1)\n",
       "\n",
       "    Null deviance: 4327.1  on 3616  degrees of freedom\n",
       "Residual deviance: 4319.0  on 3615  degrees of freedom\n",
       "AIC: 4323\n",
       "\n",
       "Number of Fisher Scoring iterations: 4\n"
      ]
     },
     "metadata": {},
     "output_type": "display_data"
    },
    {
     "name": "stderr",
     "output_type": "stream",
     "text": [
      "Waiting for profiling to be done...\n",
      "\n"
     ]
    },
    {
     "data": {
      "text/html": [
       "<table class=\"dataframe\">\n",
       "<caption>A matrix: 2 × 2 of type dbl</caption>\n",
       "<thead>\n",
       "\t<tr><th></th><th scope=col>2.5 %</th><th scope=col>97.5 %</th></tr>\n",
       "</thead>\n",
       "<tbody>\n",
       "\t<tr><th scope=row>(Intercept)</th><td>-0.1079256</td><td>0.7298501</td></tr>\n",
       "\t<tr><th scope=row>snp</th><td> 0.1019258</td><td>0.5396596</td></tr>\n",
       "</tbody>\n",
       "</table>\n"
      ],
      "text/latex": [
       "A matrix: 2 × 2 of type dbl\n",
       "\\begin{tabular}{r|ll}\n",
       "  & 2.5 \\% & 97.5 \\%\\\\\n",
       "\\hline\n",
       "\t(Intercept) & -0.1079256 & 0.7298501\\\\\n",
       "\tsnp &  0.1019258 & 0.5396596\\\\\n",
       "\\end{tabular}\n"
      ],
      "text/markdown": [
       "\n",
       "A matrix: 2 × 2 of type dbl\n",
       "\n",
       "| <!--/--> | 2.5 % | 97.5 % |\n",
       "|---|---|---|\n",
       "| (Intercept) | -0.1079256 | 0.7298501 |\n",
       "| snp |  0.1019258 | 0.5396596 |\n",
       "\n"
      ],
      "text/plain": [
       "            2.5 %      97.5 %   \n",
       "(Intercept) -0.1079256 0.7298501\n",
       "snp          0.1019258 0.5396596"
      ]
     },
     "metadata": {},
     "output_type": "display_data"
    },
    {
     "data": {
      "text/plain": [
       "\n",
       "Call:\n",
       "glm(formula = sex ~ snp, family = \"binomial\", data = dat)\n",
       "\n",
       "Deviance Residuals: \n",
       "    Min       1Q   Median       3Q      Max  \n",
       "-1.5995  -1.5995   0.8076   0.8076   1.0604  \n",
       "\n",
       "Coefficients:\n",
       "            Estimate Std. Error z value Pr(>|z|)   \n",
       "(Intercept)   0.2815     0.2147   1.311  0.18970   \n",
       "snp           0.3358     0.1121   2.995  0.00274 **\n",
       "---\n",
       "Signif. codes:  0 '***' 0.001 '**' 0.01 '*' 0.05 '.' 0.1 ' ' 1\n",
       "\n",
       "(Dispersion parameter for binomial family taken to be 1)\n",
       "\n",
       "    Null deviance: 4327.1  on 3616  degrees of freedom\n",
       "Residual deviance: 4318.4  on 3615  degrees of freedom\n",
       "AIC: 4322.4\n",
       "\n",
       "Number of Fisher Scoring iterations: 4\n"
      ]
     },
     "metadata": {},
     "output_type": "display_data"
    },
    {
     "name": "stderr",
     "output_type": "stream",
     "text": [
      "Waiting for profiling to be done...\n",
      "\n"
     ]
    },
    {
     "data": {
      "text/html": [
       "<table class=\"dataframe\">\n",
       "<caption>A matrix: 2 × 2 of type dbl</caption>\n",
       "<thead>\n",
       "\t<tr><th></th><th scope=col>2.5 %</th><th scope=col>97.5 %</th></tr>\n",
       "</thead>\n",
       "<tbody>\n",
       "\t<tr><th scope=row>(Intercept)</th><td>-0.1355564</td><td>0.7068977</td></tr>\n",
       "\t<tr><th scope=row>snp</th><td> 0.1139337</td><td>0.5538556</td></tr>\n",
       "</tbody>\n",
       "</table>\n"
      ],
      "text/latex": [
       "A matrix: 2 × 2 of type dbl\n",
       "\\begin{tabular}{r|ll}\n",
       "  & 2.5 \\% & 97.5 \\%\\\\\n",
       "\\hline\n",
       "\t(Intercept) & -0.1355564 & 0.7068977\\\\\n",
       "\tsnp &  0.1139337 & 0.5538556\\\\\n",
       "\\end{tabular}\n"
      ],
      "text/markdown": [
       "\n",
       "A matrix: 2 × 2 of type dbl\n",
       "\n",
       "| <!--/--> | 2.5 % | 97.5 % |\n",
       "|---|---|---|\n",
       "| (Intercept) | -0.1355564 | 0.7068977 |\n",
       "| snp |  0.1139337 | 0.5538556 |\n",
       "\n"
      ],
      "text/plain": [
       "            2.5 %      97.5 %   \n",
       "(Intercept) -0.1355564 0.7068977\n",
       "snp          0.1139337 0.5538556"
      ]
     },
     "metadata": {},
     "output_type": "display_data"
    }
   ],
   "source": [
    "#Get the coefficient estimates and confidence intervals for the Case/Control analysis top significance SNPxSex interaction \n",
    "snp <- full$rs7396026\n",
    "sex <- full$Sex\n",
    "case.control <- full$case.control\n",
    "dat = cbind.data.frame(sex,case.control,snp)\n",
    "Object <- glm(formula = case.control ~ snp * sex, data = dat, family='binomial')\n",
    "summary(Object)\n",
    "confint(Object)\n",
    "\n",
    "#Get the coefficient estimates and confidence intervals for the Case only analysis top two significance SNPxSex interaction \n",
    "full <- full[full$case.control == \"1\",]\n",
    "snp <- full$rs34830395\n",
    "sex <- full$Sex\n",
    "case.control <- full$case.control\n",
    "dat = cbind.data.frame(sex,case.control,snp)\n",
    "Object <- glm(formula = sex~snp, data = dat, family='binomial')\n",
    "summary(Object)\n",
    "confint(Object)\n",
    "\n",
    "snp <- full$rs35678986\n",
    "sex <- full$Sex\n",
    "case.control <- full$case.control\n",
    "dat = cbind.data.frame(sex,case.control,snp)\n",
    "Object <- glm(formula = sex~snp, data = dat, family='binomial')\n",
    "summary(Object)\n",
    "confint(Object)"
   ]
  }
 ],
 "metadata": {
  "kernelspec": {
   "display_name": "R",
   "language": "R",
   "name": "ir"
  },
  "language_info": {
   "codemirror_mode": "r",
   "file_extension": ".r",
   "mimetype": "text/x-r-source",
   "name": "R",
   "pygments_lexer": "r",
   "version": "4.1.3"
  }
 },
 "nbformat": 4,
 "nbformat_minor": 5
}
